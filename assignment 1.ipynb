{
 "cells": [
  {
   "cell_type": "code",
   "execution_count": null,
   "id": "550056fc",
   "metadata": {},
   "outputs": [],
   "source": [
    "#Lab Exercise 1\n",
    "#Name: Pratyush Saxena\n",
    "#Course: PG-DAI"
   ]
  },
  {
   "cell_type": "code",
   "execution_count": null,
   "id": "970babd5",
   "metadata": {},
   "outputs": [],
   "source": [
    "#1\n",
    "import math\n",
    "\n",
    "r = float(input(\"Enter the radius: \"))\n",
    "area = math.pi * r * r\n",
    "print(\"Area =\", area)"
   ]
  },
  {
   "cell_type": "code",
   "execution_count": null,
   "id": "e8fe1909",
   "metadata": {},
   "outputs": [],
   "source": [
    "#2\n",
    "f = float(input(\"Enter temperature in Fahrenheit: \"))\n",
    "c = (f - 32) * 5 / 9\n",
    "print(\"Temperature in Celsius:\", c)"
   ]
  },
  {
   "cell_type": "code",
   "execution_count": null,
   "id": "8a0d6d15",
   "metadata": {},
   "outputs": [],
   "source": [
    "#3\n",
    "a = float(input(\"Enter first number: \"))\n",
    "b = float(input(\"Enter second number: \"))\n",
    "\n",
    "print(\"Addition:\", a + b)\n",
    "print(\"Subtraction:\", a - b)\n",
    "print(\"Multiplication:\", a * b)\n",
    "print(\"Division:\", a / b if b != 0 else \"Undefined (division by zero)\")\n"
   ]
  },
  {
   "cell_type": "code",
   "execution_count": null,
   "id": "eacf42aa",
   "metadata": {},
   "outputs": [],
   "source": [
    "#4\n",
    "import math\n",
    "\n",
    "num = float(input(\"Enter a number: \"))\n",
    "print(\"Square Root:\", math.sqrt(num))"
   ]
  },
  {
   "cell_type": "code",
   "execution_count": null,
   "id": "12e42a50",
   "metadata": {},
   "outputs": [],
   "source": [
    "#5\n",
    "import cmath\n",
    "\n",
    "a = float(input(\"Enter a: \"))\n",
    "b = float(input(\"Enter b: \"))\n",
    "c = float(input(\"Enter c: \"))\n",
    "\n",
    "d = cmath.sqrt(b**2 - 4*a*c)  # discriminant\n",
    "root1 = (-b + d) / (2*a)\n",
    "root2 = (-b - d) / (2*a)\n",
    "\n",
    "print(\"Roots are:\", root1, \"and\", root2)\n"
   ]
  },
  {
   "cell_type": "code",
   "execution_count": null,
   "id": "5e2cbe69",
   "metadata": {},
   "outputs": [],
   "source": [
    "#6\n",
    "import math\n",
    "\n",
    "a = float(input(\"Enter side a: \"))\n",
    "b = float(input(\"Enter side b: \"))\n",
    "c = float(input(\"Enter side c: \"))\n",
    "\n",
    "s = (a + b + c) / 2  # semi-perimeter\n",
    "area = math.sqrt(s * (s - a) * (s - b) * (s - c))\n",
    "print(\"Area of Triangle:\", area)\n"
   ]
  },
  {
   "cell_type": "code",
   "execution_count": null,
   "id": "0ecc1c2a",
   "metadata": {},
   "outputs": [],
   "source": [
    "#7\n",
    "n = int(input(\"Enter a 5-digit number: \"))\n",
    "s = n//10000 + (n//1000)%10 + (n//100)%10 + (n//10)%10 + n%10\n",
    "print(\"Sum of digits:\", s)"
   ]
  },
  {
   "cell_type": "code",
   "execution_count": null,
   "id": "e9144dfc",
   "metadata": {},
   "outputs": [],
   "source": [
    "#8\n",
    "print(\"Twinkle, twinkle, little star,\\n\\tHow I wonder what you are!\\n\\t\\tUp above the world so high,\\n\\t\\tLike a diamond in the sky.\\nTwinkle, twinkle, little star,\\n\\tHow I wonder what you are!\")"
   ]
  },
  {
   "cell_type": "code",
   "execution_count": null,
   "id": "2b3ce423",
   "metadata": {},
   "outputs": [],
   "source": [
    "#9\n",
    "name = \"Pratyush Saxena\"\n",
    "age = 22\n",
    "address = \"Lucknow, India\"\n",
    "\n",
    "print(\"Name:\", name)\n",
    "print(\"Age:\", age)\n",
    "print(\"Address:\", address)\n"
   ]
  },
  {
   "cell_type": "code",
   "execution_count": null,
   "id": "78d299f5",
   "metadata": {},
   "outputs": [],
   "source": [
    "#10\n",
    "s = \"He said, 'Hello there!' and smiled.\"\n",
    "print(s)"
   ]
  },
  {
   "cell_type": "code",
   "execution_count": null,
   "id": "9610530a",
   "metadata": {},
   "outputs": [],
   "source": [
    "#11\n",
    "s = \"\"\"This string contains \"double quotes\" and 'single quotes'.\"\"\"\n",
    "print(s)"
   ]
  },
  {
   "cell_type": "code",
   "execution_count": null,
   "id": "e448f8bc",
   "metadata": {},
   "outputs": [],
   "source": [
    "#12\n",
    "ch = 'A'\n",
    "print(\"Character:\", ch)\n",
    "print(\"ASCII Value:\", ord(ch))"
   ]
  },
  {
   "cell_type": "code",
   "execution_count": null,
   "id": "6664c754",
   "metadata": {},
   "outputs": [],
   "source": [
    "#13\n",
    "s = \"abc\" * 5\n",
    "print(s)"
   ]
  },
  {
   "cell_type": "code",
   "execution_count": null,
   "id": "9846c55c",
   "metadata": {},
   "outputs": [],
   "source": [
    "#14\n",
    "print(\"-\" * 50)"
   ]
  },
  {
   "cell_type": "code",
   "execution_count": null,
   "id": "0336f42c",
   "metadata": {},
   "outputs": [],
   "source": [
    "#15\n",
    "s = input(\"Enter a string: \")\n",
    "print(s.upper())"
   ]
  },
  {
   "cell_type": "code",
   "execution_count": null,
   "id": "2c88d3ed",
   "metadata": {},
   "outputs": [],
   "source": [
    "#16\n",
    "s = input(\"Enter a string: \")\n",
    "if len(s) >= 2:\n",
    "    print(s[:2] + s[-2:])\n",
    "else:\n",
    "    print(\"String too short!\")"
   ]
  },
  {
   "cell_type": "code",
   "execution_count": null,
   "id": "cba9cf9e",
   "metadata": {},
   "outputs": [],
   "source": [
    "#17\n",
    "s = input(\"Enter a string: \")\n",
    "first = s[0]\n",
    "result = first + s[1:].replace(first, \"$\")\n",
    "print(result)"
   ]
  },
  {
   "cell_type": "code",
   "execution_count": null,
   "id": "402212ef",
   "metadata": {},
   "outputs": [],
   "source": [
    "#18\n",
    "s1 = input(\"Enter first string: \")\n",
    "s2 = input(\"Enter second string: \")\n",
    "\n",
    "new_s1 = s2[:2] + s1[2:]\n",
    "new_s2 = s1[:2] + s2[2:]\n",
    "\n",
    "print(new_s1, new_s2)\n"
   ]
  }
 ],
 "metadata": {
  "kernelspec": {
   "display_name": "Python 3",
   "language": "python",
   "name": "python3"
  },
  "language_info": {
   "codemirror_mode": {
    "name": "ipython",
    "version": 3
   },
   "file_extension": ".py",
   "mimetype": "text/x-python",
   "name": "python",
   "nbconvert_exporter": "python",
   "pygments_lexer": "ipython3",
   "version": "3.9.1"
  }
 },
 "nbformat": 4,
 "nbformat_minor": 5
}
